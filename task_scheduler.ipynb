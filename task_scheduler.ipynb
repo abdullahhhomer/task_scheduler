{
 "cells": [
  {
   "cell_type": "code",
   "execution_count": 42,
   "metadata": {},
   "outputs": [],
   "source": [
    "import json\n",
    "import os\n",
    "import datetime\n"
   ]
  },
  {
   "cell_type": "markdown",
   "metadata": {},
   "source": [
    "With the use of OS library I will check if my json File exists or not \n",
    "if it does not exist it will make a new json file "
   ]
  },
  {
   "cell_type": "code",
   "execution_count": 43,
   "metadata": {},
   "outputs": [],
   "source": [
    "def check_for_file(path_file):\n",
    "    if(os.path.isfile(path_file)):\n",
    "        with open(path_file, \"r\") as file:\n",
    "            data = json.load(file)\n",
    "            return True,data\n",
    "    else:\n",
    "        print(\"file does not exist\") \n",
    "        empty_json = []\n",
    "        empty_json_string = json.dumps(empty_json)\n",
    "        with open(path_file,\"w\") as f:\n",
    "            f.write(empty_json_string)\n",
    "            f.close()\n",
    "        print(f\"New file created as {path_file.split('/')[-1]}\")\n",
    "        return False, empty_json\n"
   ]
  },
  {
   "cell_type": "markdown",
   "metadata": {},
   "source": [
    "After JSON file creation I will now make seperate functions for updation, deletion and creation of tasks. \n",
    "It is going to add or delete the data within the list but it is not going to update the JSON file. \n",
    "That file is going to be updated at the time of termination\n"
   ]
  },
  {
   "cell_type": "code",
   "execution_count": 44,
   "metadata": {},
   "outputs": [],
   "source": [
    "def update(Id,description,status,data=[{}]):\n",
    "    for i in data:\n",
    "        if i[\"Id\"] == Id:\n",
    "            i[\"description\"] = description\n",
    "            i[\"status\"] = status\n",
    "            i[\"updated_at\"] = datetime.datetime.now().strftime(\"%Y-%m-%d %H:%M:%S\")\n",
    "            return True,data\n",
    "    return False, data"
   ]
  },
  {
   "cell_type": "code",
   "execution_count": 45,
   "metadata": {},
   "outputs": [],
   "source": [
    "def delete(Id,data=[{}]):\n",
    "    for i in data:\n",
    "        if i[\"Id\"] == Id:\n",
    "            data.remove(i)\n",
    "            return True,data\n",
    "    return False, data"
   ]
  },
  {
   "cell_type": "code",
   "execution_count": 46,
   "metadata": {},
   "outputs": [],
   "source": [
    "\n",
    "def create(description,status,data=[{}]):\n",
    "    Id=len(data)+1\n",
    "    new_data = {\n",
    "        \"Id\":Id,\n",
    "        \"description\":description,\n",
    "        \"status\":status,\n",
    "        \"created_at\":datetime.datetime.now().strftime(\"%Y-%m-%d %H:%M:%S\"),\n",
    "        \"updated_at\":datetime.datetime.now().strftime(\"%Y-%m-%d %H:%M:%S\")\n",
    "    }\n",
    "    data.append(new_data)\n",
    "    return True,data"
   ]
  },
  {
   "cell_type": "markdown",
   "metadata": {},
   "source": [
    "The below function is to update the json file before the code exits. The updation of the file will take place at the end"
   ]
  },
  {
   "cell_type": "code",
   "execution_count": 47,
   "metadata": {},
   "outputs": [],
   "source": [
    "def write(path_file,data):\n",
    "    with open(path_file,\"w\") as f:\n",
    "        json.dump(data,f)\n",
    "        f.close()\n",
    "    return True\n"
   ]
  },
  {
   "cell_type": "markdown",
   "metadata": {},
   "source": [
    "Below is the main function which can be always in an undless loop unless the user selects exit\n"
   ]
  },
  {
   "cell_type": "code",
   "execution_count": null,
   "metadata": {},
   "outputs": [],
   "source": [
    "def main():\n",
    "    path_file = \"tasks.json\"\n",
    "    _, data = check_for_file(path_file)\n",
    "    while True:\n",
    "        print(\"\\nOptions:\")\n",
    "        print(\"1. Add Task\")\n",
    "        print(\"2. Update Task\")\n",
    "        print(\"3. Delete Task\")\n",
    "        print(\"4. Mark Task as In Progress\")\n",
    "        print(\"5. Mark Task as Done\")\n",
    "        print(\"6. List All Tasks\")\n",
    "        print(\"7. List Done Tasks\")\n",
    "        print(\"8. List Not Done Tasks\")\n",
    "        print(\"9. List In Progress Tasks\")\n",
    "        print(\"10. Exit\")\n",
    "\n",
    "        choice = input(\"Enter your choice: \")\n",
    "\n",
    "        if choice == \"1\":\n",
    "            description = input(\"Enter task description: \")\n",
    "            status = input(\"Enter task status (not done, in progress, done): \")\n",
    "            success, data = create(description, status, data)\n",
    "            if success:\n",
    "                write(path_file, data)\n",
    "                print(\"Task added successfully.\")\n",
    "\n",
    "        elif choice == \"2\":\n",
    "            Id = int(input(\"Enter task ID to update: \"))\n",
    "            description = input(\"Enter new task description: \")\n",
    "            status = input(\"Enter new task status (not done, in progress, done): \")\n",
    "            success, data = update(Id, description, status, data)\n",
    "            if success:\n",
    "                write(path_file, data)\n",
    "                print(\"Task updated successfully.\")\n",
    "            else:\n",
    "                print(\"Task ID not found.\")\n",
    "\n",
    "        elif choice == \"3\":\n",
    "            Id = int(input(\"Enter task ID to delete: \"))\n",
    "            success, data = delete(Id, data)\n",
    "            if success:\n",
    "                write(path_file, data)\n",
    "                print(\"Task deleted successfully.\")\n",
    "            else:\n",
    "                print(\"Task ID not found.\")\n",
    "\n",
    "        elif choice == \"4\":\n",
    "            Id = int(input(\"Enter task ID to mark as in progress: \"))\n",
    "            success, data = update(Id, None, \"in progress\", data)\n",
    "            if success:\n",
    "                write(path_file, data)\n",
    "                print(\"Task marked as in progress.\")\n",
    "            else:\n",
    "                print(\"Task ID not found.\")\n",
    "\n",
    "        elif choice == \"5\":\n",
    "            Id = int(input(\"Enter task ID to mark as done: \"))\n",
    "            success, data = update(Id, None, \"done\", data)\n",
    "            if success:\n",
    "                write(path_file, data)\n",
    "                print(\"Task marked as done.\")\n",
    "            else:\n",
    "                print(\"Task ID not found.\")\n",
    "\n",
    "        elif choice == \"6\":\n",
    "            print(\"\\nAll Tasks:\")\n",
    "            for task in data:\n",
    "                print(task)\n",
    "\n",
    "        elif choice == \"7\":\n",
    "            print(\"\\nDone Tasks:\")\n",
    "            for task in data:\n",
    "                if task[\"status\"] == \"done\":\n",
    "                    print(task)\n",
    "\n",
    "        elif choice == \"8\":\n",
    "            print(\"\\nNot Done Tasks:\")\n",
    "            for task in data:\n",
    "                if task[\"status\"] == \"not done\":\n",
    "                    print(task)\n",
    "\n",
    "        elif choice == \"9\":\n",
    "            print(\"\\nIn Progress Tasks:\")\n",
    "            for task in data:\n",
    "                if task[\"status\"] == \"in progress\":\n",
    "                    print(task)\n",
    "\n",
    "        elif choice == \"10\":\n",
    "            break\n",
    "\n",
    "        else:\n",
    "            print(\"Invalid choice. Please try again.\")\n",
    "\n",
    "if __name__ == \"__main__\":\n",
    "    main()"
   ]
  }
 ],
 "metadata": {
  "kernelspec": {
   "display_name": "Python 3",
   "language": "python",
   "name": "python3"
  },
  "language_info": {
   "codemirror_mode": {
    "name": "ipython",
    "version": 3
   },
   "file_extension": ".py",
   "mimetype": "text/x-python",
   "name": "python",
   "nbconvert_exporter": "python",
   "pygments_lexer": "ipython3",
   "version": "3.12.4"
  }
 },
 "nbformat": 4,
 "nbformat_minor": 2
}
